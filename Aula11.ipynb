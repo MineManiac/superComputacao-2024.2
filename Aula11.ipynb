{
  "nbformat": 4,
  "nbformat_minor": 0,
  "metadata": {
    "colab": {
      "provenance": [],
      "gpuType": "T4",
      "authorship_tag": "ABX9TyNXcPVKWEX2nPWUCfE6++bt",
      "include_colab_link": true
    },
    "kernelspec": {
      "name": "python3",
      "display_name": "Python 3"
    },
    "language_info": {
      "name": "python"
    },
    "accelerator": "GPU"
  },
  "cells": [
    {
      "cell_type": "markdown",
      "metadata": {
        "id": "view-in-github",
        "colab_type": "text"
      },
      "source": [
        "<a href=\"https://colab.research.google.com/github/MineManiac/superComputacao-2024.2/blob/main/Aula11.ipynb\" target=\"_parent\"><img src=\"https://colab.research.google.com/assets/colab-badge.svg\" alt=\"Open In Colab\"/></a>"
      ]
    },
    {
      "cell_type": "code",
      "source": [
        "%%writefile exercicio.cu\n",
        "#include <thrust/device_vector.h>   // Inclui a biblioteca Thrust para vetores na GPU\n",
        "#include <thrust/host_vector.h>     // Inclui a biblioteca Thrust para vetores na CPU\n",
        "#include <thrust/extrema.h>         // Inclui a biblioteca para encontrar mínimo e máximo\n",
        "#include <iostream>                 // Biblioteca padrão para entrada e saída de dados\n",
        "#include <chrono>                   // Biblioteca para medir o tempo de execução do código\n",
        "using namespace std;\n",
        "\n",
        "int main() {\n",
        "    int n = 2518;                   // Define o tamanho do vetor (2518 elementos)\n",
        "    double value = 0.0;             // Variável auxiliar para armazenar o valor lido da entrada\n",
        "    std::chrono::duration<double> diff; // Variável para armazenar a diferença de tempo calculada\n",
        "\n",
        "    // Marca o início da medição do tempo de leitura dos dados\n",
        "    auto leitura_i = std::chrono::steady_clock::now();\n",
        "\n",
        "    // Cria um vetor na CPU (host_vector) com n elementos, todos inicializados com 0\n",
        "    thrust::host_vector<double> host(n, 0);\n",
        "\n",
        "    // Loop para ler n valores da entrada padrão e armazená-los no vetor host\n",
        "    for (int i = 0; i < n; i++) {\n",
        "        cin >> value;              // Lê um valor da entrada padrão\n",
        "        host[i] = value;           // Armazena o valor lido no vetor host\n",
        "    }\n",
        "\n",
        "    // Marca o fim da medição do tempo de leitura dos dados\n",
        "    auto leitura_f = std::chrono::steady_clock::now();\n",
        "\n",
        "    // Calcula o tempo gasto na leitura dos dados\n",
        "    diff = leitura_f - leitura_i;\n",
        "\n",
        "    // Exibe o tempo de leitura em segundos\n",
        "    cout << \"Tempo de LEITURA (em segundos)  \" << diff.count() << endl;\n",
        "\n",
        "    // Marca o início da medição do tempo de cópia dos dados da CPU para a GPU\n",
        "    auto copia_i = std::chrono::steady_clock::now();\n",
        "\n",
        "    // Cria um vetor na GPU (device_vector) copiando os dados do vetor host da CPU\n",
        "    thrust::device_vector<double> dev(host);\n",
        "\n",
        "    // Marca o fim da medição do tempo de cópia dos dados\n",
        "    auto copia_f = std::chrono::steady_clock::now();\n",
        "\n",
        "    // Calcula o tempo gasto na cópia dos dados para a GPU\n",
        "    diff = copia_f - copia_i;\n",
        "\n",
        "    // Exibe o tempo de cópia em segundos\n",
        "    cout << \"Tempo de CÓPIA (em segundos)  \" << diff.count() << endl;\n",
        "\n",
        "    // Calcula a soma e a média dos elementos\n",
        "    double soma = thrust::reduce(dev.begin(), dev.end(), 0.0, thrust::plus<double>());\n",
        "    std::cout << \"Soma dos elementos: \" << soma << std::endl;\n",
        "    double media = soma / dev.size();\n",
        "    std::cout << \"Média dos elementos: \" << media << std::endl;\n",
        "\n",
        "    // Encontrar o menor e maior preço do período total\n",
        "    auto total_minmax = thrust::minmax_element(dev.begin(), dev.end());\n",
        "    double total_min = *total_minmax.first;\n",
        "    double total_max = *total_minmax.second;\n",
        "    std::cout << \"Menor preço do período total: \" << total_min << std::endl;\n",
        "    std::cout << \"Maior preço do período total: \" << total_max << std::endl;\n",
        "\n",
        "\n",
        "    return 0;\n",
        "}\n"
      ],
      "metadata": {
        "colab": {
          "base_uri": "https://localhost:8080/"
        },
        "id": "-Xca_dJlJ4di",
        "outputId": "523ce359-c856-4924-9d33-ecf2bb78f38b"
      },
      "execution_count": 7,
      "outputs": [
        {
          "output_type": "stream",
          "name": "stdout",
          "text": [
            "Overwriting exercicio.cu\n"
          ]
        }
      ]
    },
    {
      "cell_type": "code",
      "source": [
        "!nvcc -arch=sm_70 -std=c++14 exercicio.cu -o exercicio\n"
      ],
      "metadata": {
        "id": "yWDziuVCNzhL"
      },
      "execution_count": 8,
      "outputs": []
    },
    {
      "cell_type": "code",
      "source": [
        "!./exercicio < stocks-google.txt"
      ],
      "metadata": {
        "id": "XKrcEIb5QO_l",
        "colab": {
          "base_uri": "https://localhost:8080/"
        },
        "outputId": "85df0d26-901e-499e-ac49-49b0dd5aa6ee"
      },
      "execution_count": 10,
      "outputs": [
        {
          "output_type": "stream",
          "name": "stdout",
          "text": [
            "Tempo de LEITURA (em segundos)  0.000552316\n",
            "Tempo de CÓPIA (em segundos)  0.102557\n",
            "Soma dos elementos: 5.29845e+06\n",
            "Média dos elementos: 2104.23\n",
            "Menor preço do período total: 1015.24\n",
            "Maior preço do período total: 2200\n"
          ]
        }
      ]
    },
    {
      "cell_type": "code",
      "source": [
        "%%writefile exercicio3.cu\n",
        "#include <thrust/device_vector.h>\n",
        "#include <thrust/host_vector.h>\n",
        "#include <thrust/transform.h>\n",
        "#include <thrust/reduce.h>\n",
        "#include <iostream>\n",
        "#include <fstream>   // Para manipulação de arquivos\n",
        "#include <sstream>   // Para manipulação de strings\n",
        "#include <chrono>    // Para medir o tempo de execução do código\n",
        "\n",
        "// Functor para calcular a diferença entre dois valores\n",
        "struct diff_functor {\n",
        "    __host__ __device__\n",
        "    double operator()(const double& a, const double& b) const {\n",
        "        return a - b;\n",
        "    }\n",
        "};\n",
        "\n",
        "int main() {\n",
        "    const int n = 3520;  // Aproximadamente 3520 registros no arquivo (10 anos de dados)\n",
        "    thrust::host_vector<double> host_apple(n);\n",
        "    thrust::host_vector<double> host_microsoft(n);\n",
        "\n",
        "    // Abrir o arquivo stocks2.txt\n",
        "    std::ifstream file(\"stocks2.txt\");\n",
        "    if (!file) {\n",
        "        std::cerr << \"Erro ao abrir o arquivo stocks2.txt!\" << std::endl;\n",
        "        return 1;\n",
        "    }\n",
        "\n",
        "    // Ler os dados do arquivo linha por linha\n",
        "    std::string line;\n",
        "    int i = 0;\n",
        "    while (std::getline(file, line) && i < n) {\n",
        "        std::stringstream ss(line);\n",
        "        std::string apple_price, microsoft_price;\n",
        "\n",
        "        // Pega os dois valores separados por vírgula\n",
        "        std::getline(ss, apple_price, ',');\n",
        "        std::getline(ss, microsoft_price, ',');\n",
        "\n",
        "        // Armazena os preços no vetor host\n",
        "        host_apple[i] = std::stod(apple_price);  // Converte para double\n",
        "        host_microsoft[i] = std::stod(microsoft_price);\n",
        "        i++;\n",
        "    }\n",
        "    file.close();\n",
        "\n",
        "    // Copiar os dados do host para a GPU\n",
        "    thrust::device_vector<double> dev_apple = host_apple;\n",
        "    thrust::device_vector<double> dev_microsoft = host_microsoft;\n",
        "    thrust::device_vector<double> dev_diff(n);  // Vetor para armazenar as diferenças\n",
        "\n",
        "    // Calcular a diferença ponto a ponto entre os dois vetores\n",
        "    thrust::transform(dev_apple.begin(), dev_apple.end(), dev_microsoft.begin(), dev_diff.begin(), diff_functor());\n",
        "\n",
        "    // Calcular a soma das diferenças\n",
        "    double sum_diff = thrust::reduce(dev_diff.begin(), dev_diff.end(), 0.0, thrust::plus<double>());\n",
        "\n",
        "    // Calcular a média das diferenças\n",
        "    double mean_diff = sum_diff / n;\n",
        "\n",
        "    // Exibir o resultado\n",
        "    std::cout << \"A diferença média entre os preços da Apple e Microsoft é: \" << mean_diff << std::endl;\n",
        "\n",
        "    return 0;\n",
        "}\n"
      ],
      "metadata": {
        "colab": {
          "base_uri": "https://localhost:8080/"
        },
        "id": "31Vt0IzNbR0k",
        "outputId": "7ea20356-c449-46e4-84c2-7e08d70237f1"
      },
      "execution_count": 12,
      "outputs": [
        {
          "output_type": "stream",
          "name": "stdout",
          "text": [
            "Writing exercicio3.cu\n"
          ]
        }
      ]
    },
    {
      "cell_type": "code",
      "source": [
        "!nvcc -arch=sm_70 -std=c++14 exercicio3.cu -o exercicio3"
      ],
      "metadata": {
        "id": "CqvlO32KTj24"
      },
      "execution_count": 13,
      "outputs": []
    },
    {
      "cell_type": "code",
      "source": [
        "!./exercicio3"
      ],
      "metadata": {
        "colab": {
          "base_uri": "https://localhost:8080/"
        },
        "id": "Gwmube9tcBbY",
        "outputId": "534dda67-a2a7-43da-8cd5-a670408e70f5"
      },
      "execution_count": 14,
      "outputs": [
        {
          "output_type": "stream",
          "name": "stdout",
          "text": [
            "A diferença média entre os preços da Apple e Microsoft é: -265.232\n"
          ]
        }
      ]
    }
  ]
}