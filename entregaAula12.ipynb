{
  "nbformat": 4,
  "nbformat_minor": 0,
  "metadata": {
    "colab": {
      "provenance": [],
      "gpuType": "T4",
      "authorship_tag": "ABX9TyNpJmrK/xWJOJCf9HD1qLNi",
      "include_colab_link": true
    },
    "kernelspec": {
      "name": "python3",
      "display_name": "Python 3"
    },
    "language_info": {
      "name": "python"
    },
    "accelerator": "GPU"
  },
  "cells": [
    {
      "cell_type": "markdown",
      "metadata": {
        "id": "view-in-github",
        "colab_type": "text"
      },
      "source": [
        "<a href=\"https://colab.research.google.com/github/MineManiac/superComputacao-2024.2/blob/main/entregaAula12.ipynb\" target=\"_parent\"><img src=\"https://colab.research.google.com/assets/colab-badge.svg\" alt=\"Open In Colab\"/></a>"
      ]
    },
    {
      "cell_type": "code",
      "execution_count": 1,
      "metadata": {
        "colab": {
          "base_uri": "https://localhost:8080/"
        },
        "id": "gM3APLT9EEYZ",
        "outputId": "f7a176a5-41c1-4254-ca23-8c5b98dc4e1d"
      },
      "outputs": [
        {
          "output_type": "stream",
          "name": "stdout",
          "text": [
            "Writing exercicio1.cu\n"
          ]
        }
      ],
      "source": [
        "%%writefile exercicio1.cu\n",
        "#include <thrust/device_vector.h>\n",
        "#include <thrust/transform.h>\n",
        "#include <thrust/random.h>\n",
        "#include <thrust/host_vector.h>\n",
        "#include <iostream>\n",
        "#include <cstdlib>\n",
        "#include <ctime>\n",
        "\n",
        "// Estrutura saxpy\n",
        "struct saxpy\n",
        "{\n",
        "    int a;\n",
        "    saxpy(int a_) : a(a_) {};  // Construtor que inicializa a constante 'a'\n",
        "\n",
        "    __host__ __device__\n",
        "    double operator()(const int& x, const int& y) const {\n",
        "        return a * x + y;  // Operação SAXPY\n",
        "    }\n",
        "};\n",
        "\n",
        "// Função para gerar vetores aleatórios\n",
        "void generate_random_vector(thrust::host_vector<int>& vec) {\n",
        "    srand(static_cast<unsigned>(time(0)));  // Seed para números aleatórios\n",
        "    for(size_t i = 0; i < vec.size(); i++) {\n",
        "        vec[i] = rand() % 100;  // Gera valores aleatórios entre 0 e 99\n",
        "    }\n",
        "}\n",
        "\n",
        "int main() {\n",
        "    int n = 1000;  // Tamanho dos vetores\n",
        "    int a = 5;     // Constante 'a' para SAXPY\n",
        "\n",
        "    // Vetores na CPU (host)\n",
        "    thrust::host_vector<int> h_x(n);\n",
        "    thrust::host_vector<int> h_y(n);\n",
        "    thrust::host_vector<double> h_result(n);\n",
        "\n",
        "    // Gera valores aleatórios para os vetores x e y\n",
        "    generate_random_vector(h_x);\n",
        "    generate_random_vector(h_y);\n",
        "\n",
        "    // Copia os vetores da CPU para a GPU\n",
        "    thrust::device_vector<int> d_x = h_x;\n",
        "    thrust::device_vector<int> d_y = h_y;\n",
        "    thrust::device_vector<double> d_result(n);\n",
        "\n",
        "    // Aplica o cálculo SAXPY usando a função transform\n",
        "    thrust::transform(d_x.begin(), d_x.end(), d_y.begin(), d_result.begin(), saxpy(a));\n",
        "\n",
        "    // Copia o resultado de volta para o host\n",
        "    thrust::copy(d_result.begin(), d_result.end(), h_result.begin());\n",
        "\n",
        "    // Exibe os primeiros 10 resultados\n",
        "    std::cout << \"Primeiros 10 resultados SAXPY (a * x + y):\" << std::endl;\n",
        "    for (int i = 0; i < 10; ++i) {\n",
        "        std::cout << h_x[i] << \" * \" << a << \" + \" << h_y[i] << \" = \" << h_result[i] << std::endl;\n",
        "    }\n",
        "\n",
        "    return 0;\n",
        "}\n"
      ]
    },
    {
      "cell_type": "code",
      "source": [
        "!nvcc -arch=sm_70 -std=c++14 exercicio1.cu -o exercicio1"
      ],
      "metadata": {
        "id": "sqpr-ZVXFTBn"
      },
      "execution_count": 2,
      "outputs": []
    },
    {
      "cell_type": "code",
      "source": [
        "!./exercicio1"
      ],
      "metadata": {
        "colab": {
          "base_uri": "https://localhost:8080/"
        },
        "id": "6TLIrMbtGAsM",
        "outputId": "ebde68a9-3342-4542-90a7-727332e97492"
      },
      "execution_count": 5,
      "outputs": [
        {
          "output_type": "stream",
          "name": "stdout",
          "text": [
            "Primeiros 10 resultados SAXPY (a * x + y):\n",
            "74 * 5 + 74 = 444\n",
            "86 * 5 + 86 = 516\n",
            "93 * 5 + 93 = 558\n",
            "69 * 5 + 69 = 414\n",
            "22 * 5 + 22 = 132\n",
            "85 * 5 + 85 = 510\n",
            "13 * 5 + 13 = 78\n",
            "54 * 5 + 54 = 324\n",
            "98 * 5 + 98 = 588\n",
            "82 * 5 + 82 = 492\n"
          ]
        }
      ]
    },
    {
      "cell_type": "code",
      "source": [
        "%%writefile magnitude.cu\n",
        "#include <thrust/host_vector.h>     // Para vetores no host (CPU)\n",
        "#include <thrust/device_vector.h>   // Para vetores no device (GPU)\n",
        "#include <thrust/transform_reduce.h>  // Para operações de transformação e redução\n",
        "#include <thrust/functional.h>      // Para operações como thrust::plus\n",
        "#include <cmath>                    // Para a função sqrt\n",
        "#include <iostream>                 // Para entrada e saída\n",
        "#include <chrono>                   // Para medir o tempo de execução\n",
        "\n",
        "// Functor para elevar ao quadrado\n",
        "struct square\n",
        "{\n",
        "    __host__ __device__\n",
        "    float operator()(const float& x) const {\n",
        "        return x * x;  // Função de elevação ao quadrado\n",
        "    }\n",
        "};\n",
        "\n",
        "// Função que calcula a magnitude usando Thrust na GPU\n",
        "float magnitude_gpu(thrust::device_vector<float>& v) {\n",
        "    float sum_of_squares = thrust::transform_reduce(v.begin(), v.end(), square(), 0.0f, thrust::plus<float>());\n",
        "    return std::sqrt(sum_of_squares);\n",
        "}\n",
        "\n",
        "int main() {\n",
        "    int n = 1000000;  // Tamanho do vetor\n",
        "\n",
        "    // Vetor aleatório no host (CPU)\n",
        "    thrust::host_vector<float> h_v(n);  // Certifique-se de ter incluído a biblioteca correta\n",
        "\n",
        "    // Preenche o vetor com valores aleatórios\n",
        "    for (int i = 0; i < n; ++i) {\n",
        "        h_v[i] = static_cast<float>(rand()) / RAND_MAX;\n",
        "    }\n",
        "\n",
        "    // Copia o vetor da CPU para a GPU\n",
        "    thrust::device_vector<float> d_v = h_v;\n",
        "\n",
        "    // Medição do tempo de execução na GPU\n",
        "    auto gpu_start = std::chrono::steady_clock::now();\n",
        "    float magnitude_gpu_result = magnitude_gpu(d_v);\n",
        "    auto gpu_end = std::chrono::steady_clock::now();\n",
        "\n",
        "    // Calcula o tempo de execução na GPU\n",
        "    std::chrono::duration<double> gpu_diff = gpu_end - gpu_start;\n",
        "    std::cout << \"Magnitude (GPU): \" << magnitude_gpu_result << std::endl;\n",
        "    std::cout << \"Tempo de execução na GPU: \" << gpu_diff.count() << \" segundos\" << std::endl;\n",
        "\n",
        "    return 0;\n",
        "}\n"
      ],
      "metadata": {
        "colab": {
          "base_uri": "https://localhost:8080/"
        },
        "id": "jjTfiAJNGAyf",
        "outputId": "bd9a4d92-367f-4651-d7cc-e067e9a76a12"
      },
      "execution_count": 11,
      "outputs": [
        {
          "output_type": "stream",
          "name": "stdout",
          "text": [
            "Writing magnitude.cu\n"
          ]
        }
      ]
    },
    {
      "cell_type": "code",
      "source": [
        "!nvcc -arch=sm_70 -std=c++14 magnitude.cu -o magnitudecu"
      ],
      "metadata": {
        "id": "3DY9xKhMGZcL"
      },
      "execution_count": 12,
      "outputs": []
    },
    {
      "cell_type": "code",
      "source": [
        "!./magnitudecu"
      ],
      "metadata": {
        "colab": {
          "base_uri": "https://localhost:8080/"
        },
        "id": "iZKOyId4GaAf",
        "outputId": "66f4fb24-a4e4-4fa5-c64f-04d0c7fd4f5d"
      },
      "execution_count": 15,
      "outputs": [
        {
          "output_type": "stream",
          "name": "stdout",
          "text": [
            "Magnitude (GPU): 577.328\n",
            "Tempo de execução na GPU: 0.00070064 segundos\n"
          ]
        }
      ]
    },
    {
      "cell_type": "code",
      "source": [
        "%%writefile magnitude.c\n",
        "#include <iostream>\n",
        "#include <vector>\n",
        "#include <cmath>\n",
        "#include <chrono>\n",
        "\n",
        "// Função que calcula a magnitude de um vetor na CPU\n",
        "float magnitude_cpu(const std::vector<float>& v) {\n",
        "    float sum_of_squares = 0.0f;\n",
        "    for (size_t i = 0; i < v.size(); ++i) {\n",
        "        sum_of_squares += v[i] * v[i];\n",
        "    }\n",
        "    return std::sqrt(sum_of_squares);\n",
        "}\n",
        "\n",
        "int main() {\n",
        "    int n = 1000000;  // Tamanho do vetor\n",
        "\n",
        "    // Vetor aleatório na CPU\n",
        "    std::vector<float> v(n);\n",
        "    for (int i = 0; i < n; ++i) {\n",
        "        v[i] = static_cast<float>(rand()) / RAND_MAX;\n",
        "    }\n",
        "\n",
        "    // Medição do tempo de execução na CPU\n",
        "    auto cpu_start = std::chrono::steady_clock::now();\n",
        "    float magnitude_cpu_result = magnitude_cpu(v);\n",
        "    auto cpu_end = std::chrono::steady_clock::now();\n",
        "\n",
        "    // Calcula o tempo de execução na CPU\n",
        "    std::chrono::duration<double> cpu_diff = cpu_end - cpu_start;\n",
        "    std::cout << \"Magnitude (CPU): \" << magnitude_cpu_result << std::endl;\n",
        "    std::cout << \"Tempo de execução na CPU: \" << cpu_diff.count() << \" segundos\" << std::endl;\n",
        "\n",
        "    return 0;\n",
        "}"
      ],
      "metadata": {
        "colab": {
          "base_uri": "https://localhost:8080/"
        },
        "id": "DP2KdeD0GaHP",
        "outputId": "e20cf217-223c-431e-b2d2-26d6fa3b94ad"
      },
      "execution_count": 16,
      "outputs": [
        {
          "output_type": "stream",
          "name": "stdout",
          "text": [
            "Writing magnitude.c\n"
          ]
        }
      ]
    },
    {
      "cell_type": "code",
      "source": [
        "!g++ magnitude.c -o  magnitudec"
      ],
      "metadata": {
        "id": "RQXa76MWISQA"
      },
      "execution_count": 17,
      "outputs": []
    },
    {
      "cell_type": "code",
      "source": [
        "!./magnitudec"
      ],
      "metadata": {
        "colab": {
          "base_uri": "https://localhost:8080/"
        },
        "id": "dVSQ_BQEIY_x",
        "outputId": "e699ac51-635d-4f7c-c7fd-c6d2e6cd8fa1"
      },
      "execution_count": 18,
      "outputs": [
        {
          "output_type": "stream",
          "name": "stdout",
          "text": [
            "Magnitude (CPU): 577.228\n",
            "Tempo de execução na CPU: 0.00947636 segundos\n"
          ]
        }
      ]
    },
    {
      "cell_type": "code",
      "source": [
        "%%writefile exercicio3.cu\n",
        "#include <thrust/host_vector.h>\n",
        "#include <thrust/device_vector.h>\n",
        "#include <thrust/transform_reduce.h>\n",
        "#include <thrust/functional.h>\n",
        "#include <cmath>\n",
        "#include <iostream>\n",
        "#include <chrono>\n",
        "\n",
        "// Functor para calcular a diferença ao quadrado em relação à média\n",
        "struct variance_op\n",
        "{\n",
        "    float mean;\n",
        "    variance_op(float mean_) : mean(mean_) {}\n",
        "\n",
        "    __host__ __device__\n",
        "    float operator()(const float& x) const {\n",
        "        float diff = x - mean;\n",
        "        return diff * diff;\n",
        "    }\n",
        "};\n",
        "\n",
        "// Função para calcular a variância com kernel fusion\n",
        "float calculate_variance(const thrust::device_vector<float>& d_vec, float mean) {\n",
        "    return thrust::transform_reduce(d_vec.begin(), d_vec.end(), variance_op(mean), 0.0f, thrust::plus<float>()) / d_vec.size();\n",
        "}\n",
        "\n",
        "int main() {\n",
        "    int n = 1000000;  // Tamanho do vetor\n",
        "\n",
        "    // Vetor no host (CPU)\n",
        "    thrust::host_vector<float> h_vec(n);\n",
        "\n",
        "    // Preencher o vetor com valores aleatórios\n",
        "    for (int i = 0; i < n; i++) {\n",
        "        h_vec[i] = static_cast<float>(rand()) / RAND_MAX;\n",
        "    }\n",
        "\n",
        "    // Copiar o vetor para o device (GPU)\n",
        "    thrust::device_vector<float> d_vec = h_vec;\n",
        "\n",
        "    // Calcular a média\n",
        "    float mean = thrust::reduce(d_vec.begin(), d_vec.end(), 0.0f, thrust::plus<float>()) / n;\n",
        "\n",
        "    // Medir o tempo de execução para o cálculo da variância com kernel fusion\n",
        "    auto start = std::chrono::steady_clock::now();\n",
        "    float variance = calculate_variance(d_vec, mean);\n",
        "    auto end = std::chrono::steady_clock::now();\n",
        "    std::chrono::duration<double> elapsed = end - start;\n",
        "\n",
        "    std::cout << \"Variância: \" << variance << std::endl;\n",
        "    std::cout << \"Tempo de execução (kernel fusion): \" << elapsed.count() << \" segundos\" << std::endl;\n",
        "\n",
        "    return 0;\n",
        "}\n"
      ],
      "metadata": {
        "colab": {
          "base_uri": "https://localhost:8080/"
        },
        "id": "TZBvPU6GIu42",
        "outputId": "5312a78a-d63e-4677-f1a5-04c083ca8997"
      },
      "execution_count": 19,
      "outputs": [
        {
          "output_type": "stream",
          "name": "stdout",
          "text": [
            "Writing exercicio3.cu\n"
          ]
        }
      ]
    },
    {
      "cell_type": "code",
      "source": [
        "!nvcc -arch=sm_70 -std=c++14 exercicio3.cu -o exercicio3"
      ],
      "metadata": {
        "id": "HOUAKbPaJagu"
      },
      "execution_count": 20,
      "outputs": []
    },
    {
      "cell_type": "code",
      "source": [
        "!./exercicio3"
      ],
      "metadata": {
        "colab": {
          "base_uri": "https://localhost:8080/"
        },
        "id": "WlnoDP1LJalE",
        "outputId": "60575382-547b-4230-e935-aeaf010f9799"
      },
      "execution_count": 23,
      "outputs": [
        {
          "output_type": "stream",
          "name": "stdout",
          "text": [
            "Variância: 0.0833013\n",
            "Tempo de execução (kernel fusion): 0.000234982 segundos\n"
          ]
        }
      ]
    }
  ]
}