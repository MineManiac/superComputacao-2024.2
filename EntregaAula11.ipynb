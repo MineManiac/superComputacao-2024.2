{
  "nbformat": 4,
  "nbformat_minor": 0,
  "metadata": {
    "colab": {
      "provenance": [],
      "gpuType": "T4",
      "authorship_tag": "ABX9TyPv59LC518a6Gza270QgUvO",
      "include_colab_link": true
    },
    "kernelspec": {
      "name": "python3",
      "display_name": "Python 3"
    },
    "language_info": {
      "name": "python"
    },
    "accelerator": "GPU"
  },
  "cells": [
    {
      "cell_type": "markdown",
      "metadata": {
        "id": "view-in-github",
        "colab_type": "text"
      },
      "source": [
        "<a href=\"https://colab.research.google.com/github/MineManiac/superComputacao-2024.2/blob/main/EntregaAula11.ipynb\" target=\"_parent\"><img src=\"https://colab.research.google.com/assets/colab-badge.svg\" alt=\"Open In Colab\"/></a>"
      ]
    },
    {
      "cell_type": "code",
      "execution_count": 2,
      "metadata": {
        "colab": {
          "base_uri": "https://localhost:8080/"
        },
        "id": "7vgQZclxDC_0",
        "outputId": "dfb83309-848b-4e9b-8e0b-21af759875a9"
      },
      "outputs": [
        {
          "output_type": "stream",
          "name": "stdout",
          "text": [
            "Writing exercicio.cu\n"
          ]
        }
      ],
      "source": [
        "%%writefile exercicio.cu\n",
        "#include <thrust/device_vector.h>\n",
        "#include <thrust/host_vector.h>\n",
        "#include <thrust/transform.h>\n",
        "#include <thrust/reduce.h>\n",
        "#include <thrust/iterator/constant_iterator.h>\n",
        "#include <thrust/functional.h>    // Inclui operadores e functors do Thrust\n",
        "#include <iostream>\n",
        "#include <fstream>   // Para manipulação de arquivos\n",
        "#include <sstream>   // Para manipulação de strings\n",
        "\n",
        "// Functor para calcular a diferença entre dois valores\n",
        "struct diff_functor {\n",
        "    __host__ __device__\n",
        "    double operator()(const double& a, const double& b) const {\n",
        "        return a - b;\n",
        "    }\n",
        "};\n",
        "\n",
        "// Functor para calcular o quadrado da diferença em relação à média\n",
        "struct variance_functor {\n",
        "    double mean;\n",
        "\n",
        "    variance_functor(double _mean) : mean(_mean) {}\n",
        "\n",
        "    __host__ __device__\n",
        "    double operator()(const double& x) const {\n",
        "        double diff = x - mean;\n",
        "        return diff * diff;\n",
        "    }\n",
        "};\n",
        "\n",
        "int main() {\n",
        "    const int n = 3520;  // Aproximadamente 3520 registros no arquivo (10 anos de dados)\n",
        "    thrust::host_vector<double> host_apple(n);\n",
        "    thrust::host_vector<double> host_microsoft(n);\n",
        "\n",
        "    // Abrir o arquivo stocks2.txt\n",
        "    std::ifstream file(\"stocks2.txt\");\n",
        "    if (!file) {\n",
        "        std::cerr << \"Erro ao abrir o arquivo stocks2.txt!\" << std::endl;\n",
        "        return 1;\n",
        "    }\n",
        "\n",
        "    // Ler os dados do arquivo linha por linha\n",
        "    std::string line;\n",
        "    int i = 0;\n",
        "    while (std::getline(file, line) && i < n) {\n",
        "        std::stringstream ss(line);\n",
        "        std::string apple_price, microsoft_price;\n",
        "\n",
        "        // Pega os dois valores separados por vírgula\n",
        "        std::getline(ss, apple_price, ',');\n",
        "        std::getline(ss, microsoft_price, ',');\n",
        "\n",
        "        // Armazena os preços no vetor host\n",
        "        host_apple[i] = std::stod(apple_price);  // Converte para double\n",
        "        host_microsoft[i] = std::stod(microsoft_price);\n",
        "        i++;\n",
        "    }\n",
        "    file.close();\n",
        "\n",
        "    // Copiar os dados do host para a GPU\n",
        "    thrust::device_vector<double> dev_apple = host_apple;\n",
        "    thrust::device_vector<double> dev_microsoft = host_microsoft;\n",
        "    thrust::device_vector<double> dev_diff(n);  // Vetor para armazenar as diferenças\n",
        "    thrust::device_vector<double> dev_variance(n);  // Vetor para armazenar os quadrados das diferenças\n",
        "\n",
        "    // Calcular a diferença ponto a ponto entre os dois vetores\n",
        "    thrust::transform(dev_apple.begin(), dev_apple.end(), dev_microsoft.begin(), dev_diff.begin(), diff_functor());\n",
        "\n",
        "    // Calcular a soma das diferenças\n",
        "    double sum_diff = thrust::reduce(dev_diff.begin(), dev_diff.end(), 0.0, thrust::plus<double>());\n",
        "\n",
        "    // Calcular a média das diferenças\n",
        "    double mean_diff = sum_diff / n;\n",
        "\n",
        "    // Calcular a variância usando thrust::transform e thrust::reduce\n",
        "    thrust::transform(dev_diff.begin(), dev_diff.end(), dev_variance.begin(), variance_functor(mean_diff));\n",
        "    double variance = thrust::reduce(dev_variance.begin(), dev_variance.end(), 0.0, thrust::plus<double>());\n",
        "    variance /= n;\n",
        "\n",
        "    // Exibir os resultados\n",
        "    std::cout << \"A diferença média entre os preços da Apple e Microsoft é: \" << mean_diff << std::endl;\n",
        "    std::cout << \"A variância das diferenças é: \" << variance << std::endl;\n",
        "\n",
        "    return 0;\n",
        "}\n",
        "\n"
      ]
    },
    {
      "cell_type": "code",
      "source": [
        "!nvcc -arch=sm_70 -std=c++14 exercicio.cu -o exercicio\n"
      ],
      "metadata": {
        "id": "IZGEDkKHGCmO"
      },
      "execution_count": 3,
      "outputs": []
    },
    {
      "cell_type": "code",
      "source": [
        "!./exercicio < stocks2.txt"
      ],
      "metadata": {
        "colab": {
          "base_uri": "https://localhost:8080/"
        },
        "id": "ao6jGzorGGVc",
        "outputId": "400a0fcc-648c-46cb-90ac-90989d1ec15f"
      },
      "execution_count": 4,
      "outputs": [
        {
          "output_type": "stream",
          "name": "stdout",
          "text": [
            "A diferença média entre os preços da Apple e Microsoft é: -265.232\n",
            "A variância das diferenças é: 16120.3\n"
          ]
        }
      ]
    },
    {
      "cell_type": "code",
      "source": [
        "%%writefile exercicio2.cu\n",
        "#include <thrust/device_vector.h>\n",
        "#include <thrust/host_vector.h>\n",
        "#include <thrust/transform.h>\n",
        "#include <iostream>\n",
        "#include <fstream>\n",
        "#include <sstream>\n",
        "#include <string>\n",
        "#include <stdexcept>  // For exception handling\n",
        "\n",
        "// Functor para calcular a diferença entre o preço atual e o anterior\n",
        "struct daily_gain_functor {\n",
        "    __host__ __device__\n",
        "    double operator()(const double& next, const double& current) const {\n",
        "        return next - current;\n",
        "    }\n",
        "};\n",
        "\n",
        "int main() {\n",
        "    thrust::host_vector<double> host_stocks;\n",
        "\n",
        "    // Abrir o arquivo stocks-google.txt\n",
        "    std::ifstream file(\"stocks-google.txt\");\n",
        "    if (!file) {\n",
        "        std::cerr << \"Erro ao abrir o arquivo stocks-google.txt!\" << std::endl;\n",
        "        return 1;\n",
        "    }\n",
        "\n",
        "    // Ler os dados do arquivo linha por linha\n",
        "    std::string line;\n",
        "    while (std::getline(file, line)) {\n",
        "        // Verificar se a linha não está vazia e contém dados válidos\n",
        "        try {\n",
        "            if (!line.empty()) {\n",
        "                double price = std::stod(line);  // Converte cada linha para double\n",
        "                host_stocks.push_back(price);    // Armazena o valor no vetor host\n",
        "            }\n",
        "        } catch (const std::invalid_argument& e) {\n",
        "            std::cerr << \"Erro: valor inválido na linha: \" << line << std::endl;\n",
        "            continue;  // Ignorar a linha inválida e continuar\n",
        "        } catch (const std::out_of_range& e) {\n",
        "            std::cerr << \"Erro: valor fora do intervalo na linha: \" << line << std::endl;\n",
        "            continue;  // Ignorar a linha inválida e continuar\n",
        "        }\n",
        "    }\n",
        "    file.close();\n",
        "\n",
        "    int n = host_stocks.size();  // Atualizar n com o número real de registros lidos\n",
        "    if (n < 2) {\n",
        "        std::cerr << \"Erro: Não há dados suficientes para calcular o ganho diário!\" << std::endl;\n",
        "        return 1;\n",
        "    }\n",
        "\n",
        "    // Copiar os dados do host para a GPU\n",
        "    thrust::device_vector<double> dev_stocks = host_stocks;\n",
        "    thrust::device_vector<double> dev_ganho_diario(n - 1);  // O vetor de diferença terá tamanho n-1\n",
        "\n",
        "    // Calcular a diferença diária entre o preço de um dia e o anterior\n",
        "    thrust::transform(dev_stocks.begin(), dev_stocks.end() - 1,    // Vetor atual\n",
        "                      dev_stocks.begin() + 1,                      // Vetor deslocado\n",
        "                      dev_ganho_diario.begin(),                    // Armazena a saída\n",
        "                      daily_gain_functor());                       // Functor que calcula a diferença\n",
        "\n",
        "    // Exibir as primeiras diferenças\n",
        "    for (int j = 0; j < std::min(10, n-1); j++) {\n",
        "        std::cout << \"Ganho diário [\" << j << \"]: \" << dev_ganho_diario[j] << std::endl;\n",
        "    }\n",
        "\n",
        "    return 0;\n",
        "}\n"
      ],
      "metadata": {
        "colab": {
          "base_uri": "https://localhost:8080/"
        },
        "id": "LTenGoHSIJpg",
        "outputId": "a934f494-8027-4df2-f2de-1de7b44c7166"
      },
      "execution_count": 10,
      "outputs": [
        {
          "output_type": "stream",
          "name": "stdout",
          "text": [
            "Writing exercicio2.cu\n"
          ]
        }
      ]
    },
    {
      "cell_type": "code",
      "source": [
        "!nvcc -arch=sm_70 -std=c++14 exercicio2.cu -o exercicio2"
      ],
      "metadata": {
        "id": "5dzC1iwkIrbH"
      },
      "execution_count": 11,
      "outputs": []
    },
    {
      "cell_type": "code",
      "source": [
        "!./exercicio2 < stocks-google.txt"
      ],
      "metadata": {
        "colab": {
          "base_uri": "https://localhost:8080/"
        },
        "id": "gi0stQroIuhB",
        "outputId": "8c8fca58-b018-4f46-defa-e684fc3e1dc0"
      },
      "execution_count": 12,
      "outputs": [
        {
          "output_type": "stream",
          "name": "stdout",
          "text": [
            "Ganho diário [0]: -5.26\n",
            "Ganho diário [1]: -1.5\n",
            "Ganho diário [2]: 3.25\n",
            "Ganho diário [3]: -6.25\n",
            "Ganho diário [4]: -3.5\n",
            "Ganho diário [5]: -3.25\n",
            "Ganho diário [6]: 1.75\n",
            "Ganho diário [7]: -5\n",
            "Ganho diário [8]: 2.5\n",
            "Ganho diário [9]: -5.5\n"
          ]
        }
      ]
    },
    {
      "cell_type": "code",
      "source": [
        "%%writefile exercicio3.cu\n",
        "#include <thrust/device_vector.h>\n",
        "#include <thrust/host_vector.h>\n",
        "#include <thrust/transform.h>\n",
        "#include <thrust/count.h>\n",
        "#include <iostream>\n",
        "#include <fstream>\n",
        "#include <string>\n",
        "#include <stdexcept>  // Para manipulação de exceções\n",
        "\n",
        "// Functor para calcular a diferença entre o preço atual e o anterior\n",
        "struct daily_gain_functor {\n",
        "    __host__ __device__\n",
        "    double operator()(const double& next, const double& current) const {\n",
        "        return next - current;\n",
        "    }\n",
        "};\n",
        "\n",
        "// Functor para contar os ganhos positivos\n",
        "struct is_positive {\n",
        "    __host__ __device__\n",
        "    bool operator()(const double& x) const {\n",
        "        return x > 0;\n",
        "    }\n",
        "};\n",
        "\n",
        "int main() {\n",
        "    thrust::host_vector<double> host_stocks;\n",
        "\n",
        "    // Abrir o arquivo stocks-google.txt\n",
        "    std::ifstream file(\"stocks-google.txt\");\n",
        "    if (!file) {\n",
        "        std::cerr << \"Erro ao abrir o arquivo stocks-google.txt!\" << std::endl;\n",
        "        return 1;\n",
        "    }\n",
        "\n",
        "    // Ler os dados do arquivo linha por linha\n",
        "    std::string line;\n",
        "    while (std::getline(file, line)) {\n",
        "        try {\n",
        "            if (!line.empty()) {\n",
        "                double price = std::stod(line);  // Converte cada linha para double\n",
        "                host_stocks.push_back(price);    // Armazena o valor no vetor host\n",
        "            }\n",
        "        } catch (const std::invalid_argument& e) {\n",
        "            std::cerr << \"Erro: valor inválido na linha: \" << line << std::endl;\n",
        "            continue;  // Ignorar a linha inválida e continuar\n",
        "        } catch (const std::out_of_range& e) {\n",
        "            std::cerr << \"Erro: valor fora do intervalo na linha: \" << line << std::endl;\n",
        "            continue;  // Ignorar a linha inválida e continuar\n",
        "        }\n",
        "    }\n",
        "    file.close();\n",
        "\n",
        "    int n = host_stocks.size();  // Atualizar n com o número real de registros lidos\n",
        "    if (n < 2) {\n",
        "        std::cerr << \"Erro: Não há dados suficientes para calcular o ganho diário!\" << std::endl;\n",
        "        return 1;\n",
        "    }\n",
        "\n",
        "    // Copiar os dados do host para a GPU\n",
        "    thrust::device_vector<double> dev_stocks = host_stocks;\n",
        "    thrust::device_vector<double> dev_ganho_diario(n - 1);  // O vetor de diferença terá tamanho n-1\n",
        "\n",
        "    // Calcular a diferença diária entre o preço de um dia e o anterior\n",
        "    thrust::transform(dev_stocks.begin(), dev_stocks.end() - 1,    // Vetor atual\n",
        "                      dev_stocks.begin() + 1,                      // Vetor deslocado\n",
        "                      dev_ganho_diario.begin(),                    // Armazena a saída\n",
        "                      daily_gain_functor());                       // Functor que calcula a diferença\n",
        "\n",
        "    // Contar quantas vezes o preço das ações subiu (ganhos positivos)\n",
        "    int subidas = thrust::count_if(dev_ganho_diario.begin(), dev_ganho_diario.end(), is_positive());\n",
        "\n",
        "    // Exibir o resultado\n",
        "    std::cout << \"O preço das ações subiu \" << subidas << \" vezes.\" << std::endl;\n",
        "\n",
        "    return 0;\n",
        "}\n"
      ],
      "metadata": {
        "colab": {
          "base_uri": "https://localhost:8080/"
        },
        "id": "Ralq79ZDKTwF",
        "outputId": "782131f4-0849-4366-bb9d-c715d0525dc8"
      },
      "execution_count": 14,
      "outputs": [
        {
          "output_type": "stream",
          "name": "stdout",
          "text": [
            "Writing exercicio3.cu\n"
          ]
        }
      ]
    },
    {
      "cell_type": "code",
      "source": [
        "!nvcc -arch=sm_70 -std=c++14 exercicio3.cu -o exercicio3"
      ],
      "metadata": {
        "id": "5FiYhfmhKiQV"
      },
      "execution_count": 15,
      "outputs": []
    },
    {
      "cell_type": "code",
      "source": [
        "!./exercicio3 < stocks-google.txt"
      ],
      "metadata": {
        "colab": {
          "base_uri": "https://localhost:8080/"
        },
        "id": "ozo0soeYKrRu",
        "outputId": "dde3800e-35fb-497d-c402-ef6c85c855eb"
      },
      "execution_count": 16,
      "outputs": [
        {
          "output_type": "stream",
          "name": "stdout",
          "text": [
            "O preço das ações subiu 55 vezes.\n"
          ]
        }
      ]
    },
    {
      "cell_type": "code",
      "source": [
        "%%writefile exercicio4.cu\n",
        "#include <thrust/device_vector.h>\n",
        "#include <thrust/host_vector.h>\n",
        "#include <thrust/transform.h>\n",
        "#include <thrust/count.h>\n",
        "#include <thrust/replace.h>\n",
        "#include <thrust/reduce.h>\n",
        "#include <iostream>\n",
        "#include <fstream>\n",
        "#include <string>\n",
        "#include <stdexcept>  // Para manipulação de exceções\n",
        "\n",
        "// Functor para calcular a diferença entre o preço atual e o anterior\n",
        "struct daily_gain_functor {\n",
        "    __host__ __device__\n",
        "    double operator()(const double& next, const double& current) const {\n",
        "        return next - current;\n",
        "    }\n",
        "};\n",
        "\n",
        "// Functor para contar os ganhos positivos\n",
        "struct is_positive {\n",
        "    __host__ __device__\n",
        "    bool operator()(const double& x) const {\n",
        "        return x > 0;\n",
        "    }\n",
        "};\n",
        "\n",
        "// Functor para substituir valores negativos\n",
        "struct is_negative {\n",
        "    __host__ __device__\n",
        "    bool operator()(const double& x) const {\n",
        "        return x < 0;\n",
        "    }\n",
        "};\n",
        "\n",
        "int main() {\n",
        "    thrust::host_vector<double> host_stocks;\n",
        "\n",
        "    // Abrir o arquivo stocks-google.txt\n",
        "    std::ifstream file(\"stocks-google.txt\");\n",
        "    if (!file) {\n",
        "        std::cerr << \"Erro ao abrir o arquivo stocks-google.txt!\" << std::endl;\n",
        "        return 1;\n",
        "    }\n",
        "\n",
        "    // Ler os dados do arquivo linha por linha\n",
        "    std::string line;\n",
        "    while (std::getline(file, line)) {\n",
        "        try {\n",
        "            if (!line.empty()) {\n",
        "                double price = std::stod(line);  // Converte cada linha para double\n",
        "                host_stocks.push_back(price);    // Armazena o valor no vetor host\n",
        "            }\n",
        "        } catch (const std::invalid_argument& e) {\n",
        "            std::cerr << \"Erro: valor inválido na linha: \" << line << std::endl;\n",
        "            continue;  // Ignorar a linha inválida e continuar\n",
        "        } catch (const std::out_of_range& e) {\n",
        "            std::cerr << \"Erro: valor fora do intervalo na linha: \" << line << std::endl;\n",
        "            continue;  // Ignorar a linha inválida e continuar\n",
        "        }\n",
        "    }\n",
        "    file.close();\n",
        "\n",
        "    int n = host_stocks.size();  // Atualizar n com o número real de registros lidos\n",
        "    if (n < 2) {\n",
        "        std::cerr << \"Erro: Não há dados suficientes para calcular o ganho diário!\" << std::endl;\n",
        "        return 1;\n",
        "    }\n",
        "\n",
        "    // Copiar os dados do host para a GPU\n",
        "    thrust::device_vector<double> dev_stocks = host_stocks;\n",
        "    thrust::device_vector<double> dev_ganho_diario(n - 1);  // O vetor de diferença terá tamanho n-1\n",
        "\n",
        "    // Calcular a diferença diária entre o preço de um dia e o anterior\n",
        "    thrust::transform(dev_stocks.begin(), dev_stocks.end() - 1,    // Vetor atual\n",
        "                      dev_stocks.begin() + 1,                      // Vetor deslocado\n",
        "                      dev_ganho_diario.begin(),                    // Armazena a saída\n",
        "                      daily_gain_functor());                       // Functor que calcula a diferença\n",
        "\n",
        "    // Contar quantas vezes o preço das ações subiu (ganhos positivos)\n",
        "    int subidas = thrust::count_if(dev_ganho_diario.begin(), dev_ganho_diario.end(), is_positive());\n",
        "\n",
        "    // Substituir todos os valores negativos de ganho_diario por zero\n",
        "    thrust::replace_if(dev_ganho_diario.begin(), dev_ganho_diario.end(), is_negative(), 0.0);\n",
        "\n",
        "    // Calcular a soma dos ganhos (agora com os negativos substituídos por zero)\n",
        "    double soma_ganhos = thrust::reduce(dev_ganho_diario.begin(), dev_ganho_diario.end(), 0.0);\n",
        "\n",
        "    // Calcular a média dos aumentos\n",
        "    double media_aumentos = (subidas > 0) ? (soma_ganhos / subidas) : 0.0;\n",
        "\n",
        "    // Exibir o resultado\n",
        "    std::cout << \"O preço das ações subiu \" << subidas << \" vezes.\" << std::endl;\n",
        "    std::cout << \"A média dos aumentos foi: \" << media_aumentos << std::endl;\n",
        "\n",
        "    return 0;\n",
        "}\n"
      ],
      "metadata": {
        "colab": {
          "base_uri": "https://localhost:8080/"
        },
        "id": "zqi80sLLLWQe",
        "outputId": "a92f7326-4700-4dcd-b18a-b59860d953b6"
      },
      "execution_count": 17,
      "outputs": [
        {
          "output_type": "stream",
          "name": "stdout",
          "text": [
            "Writing exercicio4.cu\n"
          ]
        }
      ]
    },
    {
      "cell_type": "code",
      "source": [
        "!nvcc -arch=sm_70 -std=c++14 exercicio4.cu -o exercicio4"
      ],
      "metadata": {
        "id": "nhm0hvHKLn3z"
      },
      "execution_count": 18,
      "outputs": []
    },
    {
      "cell_type": "code",
      "source": [
        "!./exercicio4 < stocks-google.txt"
      ],
      "metadata": {
        "colab": {
          "base_uri": "https://localhost:8080/"
        },
        "id": "_ZyKj0tQLuLk",
        "outputId": "29b3902c-c861-4fa5-d988-d962c4d826d3"
      },
      "execution_count": 19,
      "outputs": [
        {
          "output_type": "stream",
          "name": "stdout",
          "text": [
            "O preço das ações subiu 55 vezes.\n",
            "A média dos aumentos foi: 153.624\n"
          ]
        }
      ]
    },
    {
      "cell_type": "markdown",
      "source": [
        "Usar GPU para cálculos com Thrust oferece ganhos significativos em desempenho devido à paralelização e operações eficientes, como thrust::transform e thrust::reduce. Iteradores dinâmicos, como thrust::constant_iterator, ajudam a economizar memória ao evitar a alocação de vetores intermediários. No entanto, o tempo de transferência entre CPU e GPU e a memória limitada da GPU podem ser desafios. O uso de GPU é especialmente vantajoso para grandes datasets, mas é crucial balancear o custo da transferência de dados com o ganho de desempenho."
      ],
      "metadata": {
        "id": "itXdNeVYN_xw"
      }
    }
  ]
}